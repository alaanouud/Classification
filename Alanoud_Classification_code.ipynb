{
 "cells": [
  {
   "cell_type": "markdown",
   "id": "a512c47c",
   "metadata": {},
   "source": [
    "# import libraries"
   ]
  },
  {
   "cell_type": "code",
   "execution_count": 1,
   "id": "1ea47e42",
   "metadata": {},
   "outputs": [],
   "source": [
    "%matplotlib inline\n",
    "import matplotlib.pyplot as plt\n",
    "import pandas as pd\n",
    "import pandas as pd\n",
    "import numpy as np\n",
    "import seaborn as sns"
   ]
  },
  {
   "cell_type": "markdown",
   "id": "36eda2c7",
   "metadata": {},
   "source": [
    "# Load Dataset"
   ]
  },
  {
   "cell_type": "code",
   "execution_count": 2,
   "id": "60b18419",
   "metadata": {},
   "outputs": [
    {
     "data": {
      "text/html": [
       "<div>\n",
       "<style scoped>\n",
       "    .dataframe tbody tr th:only-of-type {\n",
       "        vertical-align: middle;\n",
       "    }\n",
       "\n",
       "    .dataframe tbody tr th {\n",
       "        vertical-align: top;\n",
       "    }\n",
       "\n",
       "    .dataframe thead th {\n",
       "        text-align: right;\n",
       "    }\n",
       "</style>\n",
       "<table border=\"1\" class=\"dataframe\">\n",
       "  <thead>\n",
       "    <tr style=\"text-align: right;\">\n",
       "      <th></th>\n",
       "      <th>step</th>\n",
       "      <th>type</th>\n",
       "      <th>amount</th>\n",
       "      <th>nameOrig</th>\n",
       "      <th>oldbalanceOrg</th>\n",
       "      <th>newbalanceOrig</th>\n",
       "      <th>nameDest</th>\n",
       "      <th>oldbalanceDest</th>\n",
       "      <th>newbalanceDest</th>\n",
       "      <th>isFraud</th>\n",
       "      <th>isFlaggedFraud</th>\n",
       "    </tr>\n",
       "  </thead>\n",
       "  <tbody>\n",
       "    <tr>\n",
       "      <th>0</th>\n",
       "      <td>1</td>\n",
       "      <td>PAYMENT</td>\n",
       "      <td>9839.64</td>\n",
       "      <td>C1231006815</td>\n",
       "      <td>170136.00</td>\n",
       "      <td>160296.36</td>\n",
       "      <td>M1979787155</td>\n",
       "      <td>0.00</td>\n",
       "      <td>0.00</td>\n",
       "      <td>0</td>\n",
       "      <td>0</td>\n",
       "    </tr>\n",
       "    <tr>\n",
       "      <th>1</th>\n",
       "      <td>1</td>\n",
       "      <td>PAYMENT</td>\n",
       "      <td>1864.28</td>\n",
       "      <td>C1666544295</td>\n",
       "      <td>21249.00</td>\n",
       "      <td>19384.72</td>\n",
       "      <td>M2044282225</td>\n",
       "      <td>0.00</td>\n",
       "      <td>0.00</td>\n",
       "      <td>0</td>\n",
       "      <td>0</td>\n",
       "    </tr>\n",
       "    <tr>\n",
       "      <th>2</th>\n",
       "      <td>1</td>\n",
       "      <td>TRANSFER</td>\n",
       "      <td>181.00</td>\n",
       "      <td>C1305486145</td>\n",
       "      <td>181.00</td>\n",
       "      <td>0.00</td>\n",
       "      <td>C553264065</td>\n",
       "      <td>0.00</td>\n",
       "      <td>0.00</td>\n",
       "      <td>1</td>\n",
       "      <td>0</td>\n",
       "    </tr>\n",
       "    <tr>\n",
       "      <th>3</th>\n",
       "      <td>1</td>\n",
       "      <td>CASH_OUT</td>\n",
       "      <td>181.00</td>\n",
       "      <td>C840083671</td>\n",
       "      <td>181.00</td>\n",
       "      <td>0.00</td>\n",
       "      <td>C38997010</td>\n",
       "      <td>21182.00</td>\n",
       "      <td>0.00</td>\n",
       "      <td>1</td>\n",
       "      <td>0</td>\n",
       "    </tr>\n",
       "    <tr>\n",
       "      <th>4</th>\n",
       "      <td>1</td>\n",
       "      <td>PAYMENT</td>\n",
       "      <td>11668.14</td>\n",
       "      <td>C2048537720</td>\n",
       "      <td>41554.00</td>\n",
       "      <td>29885.86</td>\n",
       "      <td>M1230701703</td>\n",
       "      <td>0.00</td>\n",
       "      <td>0.00</td>\n",
       "      <td>0</td>\n",
       "      <td>0</td>\n",
       "    </tr>\n",
       "    <tr>\n",
       "      <th>...</th>\n",
       "      <td>...</td>\n",
       "      <td>...</td>\n",
       "      <td>...</td>\n",
       "      <td>...</td>\n",
       "      <td>...</td>\n",
       "      <td>...</td>\n",
       "      <td>...</td>\n",
       "      <td>...</td>\n",
       "      <td>...</td>\n",
       "      <td>...</td>\n",
       "      <td>...</td>\n",
       "    </tr>\n",
       "    <tr>\n",
       "      <th>6362615</th>\n",
       "      <td>743</td>\n",
       "      <td>CASH_OUT</td>\n",
       "      <td>339682.13</td>\n",
       "      <td>C786484425</td>\n",
       "      <td>339682.13</td>\n",
       "      <td>0.00</td>\n",
       "      <td>C776919290</td>\n",
       "      <td>0.00</td>\n",
       "      <td>339682.13</td>\n",
       "      <td>1</td>\n",
       "      <td>0</td>\n",
       "    </tr>\n",
       "    <tr>\n",
       "      <th>6362616</th>\n",
       "      <td>743</td>\n",
       "      <td>TRANSFER</td>\n",
       "      <td>6311409.28</td>\n",
       "      <td>C1529008245</td>\n",
       "      <td>6311409.28</td>\n",
       "      <td>0.00</td>\n",
       "      <td>C1881841831</td>\n",
       "      <td>0.00</td>\n",
       "      <td>0.00</td>\n",
       "      <td>1</td>\n",
       "      <td>0</td>\n",
       "    </tr>\n",
       "    <tr>\n",
       "      <th>6362617</th>\n",
       "      <td>743</td>\n",
       "      <td>CASH_OUT</td>\n",
       "      <td>6311409.28</td>\n",
       "      <td>C1162922333</td>\n",
       "      <td>6311409.28</td>\n",
       "      <td>0.00</td>\n",
       "      <td>C1365125890</td>\n",
       "      <td>68488.84</td>\n",
       "      <td>6379898.11</td>\n",
       "      <td>1</td>\n",
       "      <td>0</td>\n",
       "    </tr>\n",
       "    <tr>\n",
       "      <th>6362618</th>\n",
       "      <td>743</td>\n",
       "      <td>TRANSFER</td>\n",
       "      <td>850002.52</td>\n",
       "      <td>C1685995037</td>\n",
       "      <td>850002.52</td>\n",
       "      <td>0.00</td>\n",
       "      <td>C2080388513</td>\n",
       "      <td>0.00</td>\n",
       "      <td>0.00</td>\n",
       "      <td>1</td>\n",
       "      <td>0</td>\n",
       "    </tr>\n",
       "    <tr>\n",
       "      <th>6362619</th>\n",
       "      <td>743</td>\n",
       "      <td>CASH_OUT</td>\n",
       "      <td>850002.52</td>\n",
       "      <td>C1280323807</td>\n",
       "      <td>850002.52</td>\n",
       "      <td>0.00</td>\n",
       "      <td>C873221189</td>\n",
       "      <td>6510099.11</td>\n",
       "      <td>7360101.63</td>\n",
       "      <td>1</td>\n",
       "      <td>0</td>\n",
       "    </tr>\n",
       "  </tbody>\n",
       "</table>\n",
       "<p>6362620 rows × 11 columns</p>\n",
       "</div>"
      ],
      "text/plain": [
       "         step      type      amount     nameOrig  oldbalanceOrg  \\\n",
       "0           1   PAYMENT     9839.64  C1231006815      170136.00   \n",
       "1           1   PAYMENT     1864.28  C1666544295       21249.00   \n",
       "2           1  TRANSFER      181.00  C1305486145         181.00   \n",
       "3           1  CASH_OUT      181.00   C840083671         181.00   \n",
       "4           1   PAYMENT    11668.14  C2048537720       41554.00   \n",
       "...       ...       ...         ...          ...            ...   \n",
       "6362615   743  CASH_OUT   339682.13   C786484425      339682.13   \n",
       "6362616   743  TRANSFER  6311409.28  C1529008245     6311409.28   \n",
       "6362617   743  CASH_OUT  6311409.28  C1162922333     6311409.28   \n",
       "6362618   743  TRANSFER   850002.52  C1685995037      850002.52   \n",
       "6362619   743  CASH_OUT   850002.52  C1280323807      850002.52   \n",
       "\n",
       "         newbalanceOrig     nameDest  oldbalanceDest  newbalanceDest  isFraud  \\\n",
       "0             160296.36  M1979787155            0.00            0.00        0   \n",
       "1              19384.72  M2044282225            0.00            0.00        0   \n",
       "2                  0.00   C553264065            0.00            0.00        1   \n",
       "3                  0.00    C38997010        21182.00            0.00        1   \n",
       "4              29885.86  M1230701703            0.00            0.00        0   \n",
       "...                 ...          ...             ...             ...      ...   \n",
       "6362615            0.00   C776919290            0.00       339682.13        1   \n",
       "6362616            0.00  C1881841831            0.00            0.00        1   \n",
       "6362617            0.00  C1365125890        68488.84      6379898.11        1   \n",
       "6362618            0.00  C2080388513            0.00            0.00        1   \n",
       "6362619            0.00   C873221189      6510099.11      7360101.63        1   \n",
       "\n",
       "         isFlaggedFraud  \n",
       "0                     0  \n",
       "1                     0  \n",
       "2                     0  \n",
       "3                     0  \n",
       "4                     0  \n",
       "...                 ...  \n",
       "6362615               0  \n",
       "6362616               0  \n",
       "6362617               0  \n",
       "6362618               0  \n",
       "6362619               0  \n",
       "\n",
       "[6362620 rows x 11 columns]"
      ]
     },
     "execution_count": 2,
     "metadata": {},
     "output_type": "execute_result"
    }
   ],
   "source": [
    "data=pd.read_csv('FraudCard.csv')\n",
    "data"
   ]
  },
  {
   "cell_type": "markdown",
   "id": "148b0e6b",
   "metadata": {},
   "source": [
    "# Description"
   ]
  },
  {
   "cell_type": "code",
   "execution_count": 3,
   "id": "e13b3b23",
   "metadata": {},
   "outputs": [
    {
     "name": "stdout",
     "output_type": "stream",
     "text": [
      "<class 'pandas.core.frame.DataFrame'>\n",
      "RangeIndex: 6362620 entries, 0 to 6362619\n",
      "Data columns (total 11 columns):\n",
      " #   Column          Dtype  \n",
      "---  ------          -----  \n",
      " 0   step            int64  \n",
      " 1   type            object \n",
      " 2   amount          float64\n",
      " 3   nameOrig        object \n",
      " 4   oldbalanceOrg   float64\n",
      " 5   newbalanceOrig  float64\n",
      " 6   nameDest        object \n",
      " 7   oldbalanceDest  float64\n",
      " 8   newbalanceDest  float64\n",
      " 9   isFraud         int64  \n",
      " 10  isFlaggedFraud  int64  \n",
      "dtypes: float64(5), int64(3), object(3)\n",
      "memory usage: 534.0+ MB\n"
     ]
    }
   ],
   "source": [
    "data.info()"
   ]
  },
  {
   "cell_type": "code",
   "execution_count": 4,
   "id": "8dfb6aa5",
   "metadata": {},
   "outputs": [
    {
     "data": {
      "text/plain": [
       "Index(['step', 'type', 'amount', 'nameOrig', 'oldbalanceOrg', 'newbalanceOrig',\n",
       "       'nameDest', 'oldbalanceDest', 'newbalanceDest', 'isFraud',\n",
       "       'isFlaggedFraud'],\n",
       "      dtype='object')"
      ]
     },
     "execution_count": 4,
     "metadata": {},
     "output_type": "execute_result"
    }
   ],
   "source": [
    "data.columns"
   ]
  },
  {
   "cell_type": "markdown",
   "id": "b2839b51",
   "metadata": {},
   "source": [
    "# Balanced dataset"
   ]
  },
  {
   "cell_type": "code",
   "execution_count": 5,
   "id": "f83a8728",
   "metadata": {},
   "outputs": [
    {
     "data": {
      "text/html": [
       "<div>\n",
       "<style scoped>\n",
       "    .dataframe tbody tr th:only-of-type {\n",
       "        vertical-align: middle;\n",
       "    }\n",
       "\n",
       "    .dataframe tbody tr th {\n",
       "        vertical-align: top;\n",
       "    }\n",
       "\n",
       "    .dataframe thead th {\n",
       "        text-align: right;\n",
       "    }\n",
       "</style>\n",
       "<table border=\"1\" class=\"dataframe\">\n",
       "  <thead>\n",
       "    <tr style=\"text-align: right;\">\n",
       "      <th></th>\n",
       "      <th>step</th>\n",
       "      <th>type</th>\n",
       "      <th>amount</th>\n",
       "      <th>nameOrig</th>\n",
       "      <th>oldbalanceOrg</th>\n",
       "      <th>newbalanceOrig</th>\n",
       "      <th>nameDest</th>\n",
       "      <th>oldbalanceDest</th>\n",
       "      <th>newbalanceDest</th>\n",
       "      <th>isFraud</th>\n",
       "      <th>isFlaggedFraud</th>\n",
       "    </tr>\n",
       "  </thead>\n",
       "  <tbody>\n",
       "    <tr>\n",
       "      <th>2123347</th>\n",
       "      <td>183</td>\n",
       "      <td>TRANSFER</td>\n",
       "      <td>355909.21</td>\n",
       "      <td>C1946400298</td>\n",
       "      <td>355909.21</td>\n",
       "      <td>0.00</td>\n",
       "      <td>C1340648788</td>\n",
       "      <td>0.00</td>\n",
       "      <td>0.00</td>\n",
       "      <td>1</td>\n",
       "      <td>0</td>\n",
       "    </tr>\n",
       "    <tr>\n",
       "      <th>6281779</th>\n",
       "      <td>650</td>\n",
       "      <td>TRANSFER</td>\n",
       "      <td>692654.27</td>\n",
       "      <td>C435003043</td>\n",
       "      <td>692654.27</td>\n",
       "      <td>0.00</td>\n",
       "      <td>C1552080163</td>\n",
       "      <td>0.00</td>\n",
       "      <td>0.00</td>\n",
       "      <td>1</td>\n",
       "      <td>0</td>\n",
       "    </tr>\n",
       "    <tr>\n",
       "      <th>6196334</th>\n",
       "      <td>573</td>\n",
       "      <td>TRANSFER</td>\n",
       "      <td>457789.14</td>\n",
       "      <td>C2120513600</td>\n",
       "      <td>457789.14</td>\n",
       "      <td>0.00</td>\n",
       "      <td>C975127788</td>\n",
       "      <td>0.00</td>\n",
       "      <td>0.00</td>\n",
       "      <td>1</td>\n",
       "      <td>0</td>\n",
       "    </tr>\n",
       "    <tr>\n",
       "      <th>5012385</th>\n",
       "      <td>353</td>\n",
       "      <td>CASH_OUT</td>\n",
       "      <td>839008.91</td>\n",
       "      <td>C46669034</td>\n",
       "      <td>839008.91</td>\n",
       "      <td>0.00</td>\n",
       "      <td>C1321957985</td>\n",
       "      <td>364600.35</td>\n",
       "      <td>1203609.26</td>\n",
       "      <td>1</td>\n",
       "      <td>0</td>\n",
       "    </tr>\n",
       "    <tr>\n",
       "      <th>6351059</th>\n",
       "      <td>696</td>\n",
       "      <td>TRANSFER</td>\n",
       "      <td>803038.11</td>\n",
       "      <td>C1481259935</td>\n",
       "      <td>803038.11</td>\n",
       "      <td>0.00</td>\n",
       "      <td>C749805705</td>\n",
       "      <td>0.00</td>\n",
       "      <td>0.00</td>\n",
       "      <td>1</td>\n",
       "      <td>0</td>\n",
       "    </tr>\n",
       "    <tr>\n",
       "      <th>...</th>\n",
       "      <td>...</td>\n",
       "      <td>...</td>\n",
       "      <td>...</td>\n",
       "      <td>...</td>\n",
       "      <td>...</td>\n",
       "      <td>...</td>\n",
       "      <td>...</td>\n",
       "      <td>...</td>\n",
       "      <td>...</td>\n",
       "      <td>...</td>\n",
       "      <td>...</td>\n",
       "    </tr>\n",
       "    <tr>\n",
       "      <th>4539362</th>\n",
       "      <td>326</td>\n",
       "      <td>TRANSFER</td>\n",
       "      <td>1151053.30</td>\n",
       "      <td>C744735536</td>\n",
       "      <td>0.00</td>\n",
       "      <td>0.00</td>\n",
       "      <td>C884298272</td>\n",
       "      <td>3236040.12</td>\n",
       "      <td>4387093.42</td>\n",
       "      <td>0</td>\n",
       "      <td>0</td>\n",
       "    </tr>\n",
       "    <tr>\n",
       "      <th>3629691</th>\n",
       "      <td>274</td>\n",
       "      <td>CASH_OUT</td>\n",
       "      <td>471661.04</td>\n",
       "      <td>C300880760</td>\n",
       "      <td>0.00</td>\n",
       "      <td>0.00</td>\n",
       "      <td>C1075100696</td>\n",
       "      <td>729694.08</td>\n",
       "      <td>1201355.12</td>\n",
       "      <td>0</td>\n",
       "      <td>0</td>\n",
       "    </tr>\n",
       "    <tr>\n",
       "      <th>5173239</th>\n",
       "      <td>358</td>\n",
       "      <td>PAYMENT</td>\n",
       "      <td>12615.17</td>\n",
       "      <td>C208200959</td>\n",
       "      <td>862.00</td>\n",
       "      <td>0.00</td>\n",
       "      <td>M1594253104</td>\n",
       "      <td>0.00</td>\n",
       "      <td>0.00</td>\n",
       "      <td>0</td>\n",
       "      <td>0</td>\n",
       "    </tr>\n",
       "    <tr>\n",
       "      <th>1162365</th>\n",
       "      <td>132</td>\n",
       "      <td>PAYMENT</td>\n",
       "      <td>8686.06</td>\n",
       "      <td>C555092298</td>\n",
       "      <td>14905.00</td>\n",
       "      <td>6218.94</td>\n",
       "      <td>M1954610865</td>\n",
       "      <td>0.00</td>\n",
       "      <td>0.00</td>\n",
       "      <td>0</td>\n",
       "      <td>0</td>\n",
       "    </tr>\n",
       "    <tr>\n",
       "      <th>1892118</th>\n",
       "      <td>165</td>\n",
       "      <td>PAYMENT</td>\n",
       "      <td>9473.36</td>\n",
       "      <td>C140502037</td>\n",
       "      <td>334120.00</td>\n",
       "      <td>324646.64</td>\n",
       "      <td>M453657451</td>\n",
       "      <td>0.00</td>\n",
       "      <td>0.00</td>\n",
       "      <td>0</td>\n",
       "      <td>0</td>\n",
       "    </tr>\n",
       "  </tbody>\n",
       "</table>\n",
       "<p>10000 rows × 11 columns</p>\n",
       "</div>"
      ],
      "text/plain": [
       "         step      type      amount     nameOrig  oldbalanceOrg  \\\n",
       "2123347   183  TRANSFER   355909.21  C1946400298      355909.21   \n",
       "6281779   650  TRANSFER   692654.27   C435003043      692654.27   \n",
       "6196334   573  TRANSFER   457789.14  C2120513600      457789.14   \n",
       "5012385   353  CASH_OUT   839008.91    C46669034      839008.91   \n",
       "6351059   696  TRANSFER   803038.11  C1481259935      803038.11   \n",
       "...       ...       ...         ...          ...            ...   \n",
       "4539362   326  TRANSFER  1151053.30   C744735536           0.00   \n",
       "3629691   274  CASH_OUT   471661.04   C300880760           0.00   \n",
       "5173239   358   PAYMENT    12615.17   C208200959         862.00   \n",
       "1162365   132   PAYMENT     8686.06   C555092298       14905.00   \n",
       "1892118   165   PAYMENT     9473.36   C140502037      334120.00   \n",
       "\n",
       "         newbalanceOrig     nameDest  oldbalanceDest  newbalanceDest  isFraud  \\\n",
       "2123347            0.00  C1340648788            0.00            0.00        1   \n",
       "6281779            0.00  C1552080163            0.00            0.00        1   \n",
       "6196334            0.00   C975127788            0.00            0.00        1   \n",
       "5012385            0.00  C1321957985       364600.35      1203609.26        1   \n",
       "6351059            0.00   C749805705            0.00            0.00        1   \n",
       "...                 ...          ...             ...             ...      ...   \n",
       "4539362            0.00   C884298272      3236040.12      4387093.42        0   \n",
       "3629691            0.00  C1075100696       729694.08      1201355.12        0   \n",
       "5173239            0.00  M1594253104            0.00            0.00        0   \n",
       "1162365         6218.94  M1954610865            0.00            0.00        0   \n",
       "1892118       324646.64   M453657451            0.00            0.00        0   \n",
       "\n",
       "         isFlaggedFraud  \n",
       "2123347               0  \n",
       "6281779               0  \n",
       "6196334               0  \n",
       "5012385               0  \n",
       "6351059               0  \n",
       "...                 ...  \n",
       "4539362               0  \n",
       "3629691               0  \n",
       "5173239               0  \n",
       "1162365               0  \n",
       "1892118               0  \n",
       "\n",
       "[10000 rows x 11 columns]"
      ]
     },
     "execution_count": 5,
     "metadata": {},
     "output_type": "execute_result"
    }
   ],
   "source": [
    "data_bal = data[data['isFraud']==1].sample(n=5000)\n",
    "data_bal = data_bal.append(data[data['isFraud']==0].sample(n=5000))\n",
    "data_bal"
   ]
  },
  {
   "cell_type": "code",
   "execution_count": 6,
   "id": "99a35b34",
   "metadata": {
    "scrolled": false
   },
   "outputs": [
    {
     "data": {
      "image/png": "[encoded data removed]",
      "text/plain": [
       "<Figure size 576x432 with 1 Axes>"
      ]
     },
     "metadata": {
      "needs_background": "light"
     },
     "output_type": "display_data"
    }
   ],
   "source": [
    "ax = data_bal.groupby(['type', 'isFraud']).size().plot(kind='bar',figsize=(8, 6), color='purple')\n",
    "ax.set_title(\" Transaction which are the actual fraud per transaction type\")\n",
    "ax.set_xlabel(\"(Type, isFraud)\")\n",
    "ax.set_ylabel(\"Count of transaction\")\n",
    "plt.ticklabel_format(style='plain', axis='y')\n",
    "for p in ax.patches:\n",
    "    ax.annotate(str(format(int(p.get_height()), ',d')), (p.get_x(), p.get_height()))"
   ]
  },
  {
   "cell_type": "code",
   "execution_count": 7,
   "id": "298e0e24",
   "metadata": {},
   "outputs": [
    {
     "data": {
      "image/png": "[encoded data removed]",
      "text/plain": [
       "<Figure size 360x360 with 1 Axes>"
      ]
     },
     "metadata": {},
     "output_type": "display_data"
    }
   ],
   "source": [
    "labels = ['Cash-out', 'Payment', 'Cash-in', 'Transfer', 'Debit']\n",
    "size = [2237500, 2151495, 1399284, 532909, 41432]\n",
    "colors = ['pink', 'lightgreen', 'lightblue', 'orange', 'yellow']\n",
    "explode = [0.1, 0.1, 0.1, 0.1, 0.1]\n",
    "\n",
    "plt.rcParams['figure.figsize'] = (5, 5)\n",
    "plt.pie(size, colors = colors, explode = explode, labels = labels, shadow = True)\n",
    "plt.title('A pie chart representing different types of money transactions', fontsize = 20)\n",
    "plt.axis('off')\n",
    "plt.legend()\n",
    "plt.show()"
   ]
  },
  {
   "cell_type": "markdown",
   "id": "21250c9a",
   "metadata": {},
   "source": [
    "# Feature selection"
   ]
  },
  {
   "cell_type": "code",
   "execution_count": 8,
   "id": "a2222232",
   "metadata": {},
   "outputs": [
    {
     "data": {
      "text/html": [
       "<div>\n",
       "<style scoped>\n",
       "    .dataframe tbody tr th:only-of-type {\n",
       "        vertical-align: middle;\n",
       "    }\n",
       "\n",
       "    .dataframe tbody tr th {\n",
       "        vertical-align: top;\n",
       "    }\n",
       "\n",
       "    .dataframe thead th {\n",
       "        text-align: right;\n",
       "    }\n",
       "</style>\n",
       "<table border=\"1\" class=\"dataframe\">\n",
       "  <thead>\n",
       "    <tr style=\"text-align: right;\">\n",
       "      <th></th>\n",
       "      <th>step</th>\n",
       "      <th>amount</th>\n",
       "      <th>oldbalanceOrg</th>\n",
       "      <th>newbalanceOrig</th>\n",
       "      <th>oldbalanceDest</th>\n",
       "      <th>newbalanceDest</th>\n",
       "      <th>isFraud</th>\n",
       "      <th>isFlaggedFraud</th>\n",
       "    </tr>\n",
       "  </thead>\n",
       "  <tbody>\n",
       "    <tr>\n",
       "      <th>2123347</th>\n",
       "      <td>183</td>\n",
       "      <td>355909.21</td>\n",
       "      <td>355909.21</td>\n",
       "      <td>0.00</td>\n",
       "      <td>0.00</td>\n",
       "      <td>0.00</td>\n",
       "      <td>1</td>\n",
       "      <td>0</td>\n",
       "    </tr>\n",
       "    <tr>\n",
       "      <th>6281779</th>\n",
       "      <td>650</td>\n",
       "      <td>692654.27</td>\n",
       "      <td>692654.27</td>\n",
       "      <td>0.00</td>\n",
       "      <td>0.00</td>\n",
       "      <td>0.00</td>\n",
       "      <td>1</td>\n",
       "      <td>0</td>\n",
       "    </tr>\n",
       "    <tr>\n",
       "      <th>6196334</th>\n",
       "      <td>573</td>\n",
       "      <td>457789.14</td>\n",
       "      <td>457789.14</td>\n",
       "      <td>0.00</td>\n",
       "      <td>0.00</td>\n",
       "      <td>0.00</td>\n",
       "      <td>1</td>\n",
       "      <td>0</td>\n",
       "    </tr>\n",
       "    <tr>\n",
       "      <th>5012385</th>\n",
       "      <td>353</td>\n",
       "      <td>839008.91</td>\n",
       "      <td>839008.91</td>\n",
       "      <td>0.00</td>\n",
       "      <td>364600.35</td>\n",
       "      <td>1203609.26</td>\n",
       "      <td>1</td>\n",
       "      <td>0</td>\n",
       "    </tr>\n",
       "    <tr>\n",
       "      <th>6351059</th>\n",
       "      <td>696</td>\n",
       "      <td>803038.11</td>\n",
       "      <td>803038.11</td>\n",
       "      <td>0.00</td>\n",
       "      <td>0.00</td>\n",
       "      <td>0.00</td>\n",
       "      <td>1</td>\n",
       "      <td>0</td>\n",
       "    </tr>\n",
       "    <tr>\n",
       "      <th>...</th>\n",
       "      <td>...</td>\n",
       "      <td>...</td>\n",
       "      <td>...</td>\n",
       "      <td>...</td>\n",
       "      <td>...</td>\n",
       "      <td>...</td>\n",
       "      <td>...</td>\n",
       "      <td>...</td>\n",
       "    </tr>\n",
       "    <tr>\n",
       "      <th>4539362</th>\n",
       "      <td>326</td>\n",
       "      <td>1151053.30</td>\n",
       "      <td>0.00</td>\n",
       "      <td>0.00</td>\n",
       "      <td>3236040.12</td>\n",
       "      <td>4387093.42</td>\n",
       "      <td>0</td>\n",
       "      <td>0</td>\n",
       "    </tr>\n",
       "    <tr>\n",
       "      <th>3629691</th>\n",
       "      <td>274</td>\n",
       "      <td>471661.04</td>\n",
       "      <td>0.00</td>\n",
       "      <td>0.00</td>\n",
       "      <td>729694.08</td>\n",
       "      <td>1201355.12</td>\n",
       "      <td>0</td>\n",
       "      <td>0</td>\n",
       "    </tr>\n",
       "    <tr>\n",
       "      <th>5173239</th>\n",
       "      <td>358</td>\n",
       "      <td>12615.17</td>\n",
       "      <td>862.00</td>\n",
       "      <td>0.00</td>\n",
       "      <td>0.00</td>\n",
       "      <td>0.00</td>\n",
       "      <td>0</td>\n",
       "      <td>0</td>\n",
       "    </tr>\n",
       "    <tr>\n",
       "      <th>1162365</th>\n",
       "      <td>132</td>\n",
       "      <td>8686.06</td>\n",
       "      <td>14905.00</td>\n",
       "      <td>6218.94</td>\n",
       "      <td>0.00</td>\n",
       "      <td>0.00</td>\n",
       "      <td>0</td>\n",
       "      <td>0</td>\n",
       "    </tr>\n",
       "    <tr>\n",
       "      <th>1892118</th>\n",
       "      <td>165</td>\n",
       "      <td>9473.36</td>\n",
       "      <td>334120.00</td>\n",
       "      <td>324646.64</td>\n",
       "      <td>0.00</td>\n",
       "      <td>0.00</td>\n",
       "      <td>0</td>\n",
       "      <td>0</td>\n",
       "    </tr>\n",
       "  </tbody>\n",
       "</table>\n",
       "<p>10000 rows × 8 columns</p>\n",
       "</div>"
      ],
      "text/plain": [
       "         step      amount  oldbalanceOrg  newbalanceOrig  oldbalanceDest  \\\n",
       "2123347   183   355909.21      355909.21            0.00            0.00   \n",
       "6281779   650   692654.27      692654.27            0.00            0.00   \n",
       "6196334   573   457789.14      457789.14            0.00            0.00   \n",
       "5012385   353   839008.91      839008.91            0.00       364600.35   \n",
       "6351059   696   803038.11      803038.11            0.00            0.00   \n",
       "...       ...         ...            ...             ...             ...   \n",
       "4539362   326  1151053.30           0.00            0.00      3236040.12   \n",
       "3629691   274   471661.04           0.00            0.00       729694.08   \n",
       "5173239   358    12615.17         862.00            0.00            0.00   \n",
       "1162365   132     8686.06       14905.00         6218.94            0.00   \n",
       "1892118   165     9473.36      334120.00       324646.64            0.00   \n",
       "\n",
       "         newbalanceDest  isFraud  isFlaggedFraud  \n",
       "2123347            0.00        1               0  \n",
       "6281779            0.00        1               0  \n",
       "6196334            0.00        1               0  \n",
       "5012385      1203609.26        1               0  \n",
       "6351059            0.00        1               0  \n",
       "...                 ...      ...             ...  \n",
       "4539362      4387093.42        0               0  \n",
       "3629691      1201355.12        0               0  \n",
       "5173239            0.00        0               0  \n",
       "1162365            0.00        0               0  \n",
       "1892118            0.00        0               0  \n",
       "\n",
       "[10000 rows x 8 columns]"
      ]
     },
     "execution_count": 8,
     "metadata": {},
     "output_type": "execute_result"
    }
   ],
   "source": [
    "data1=data_bal.select_dtypes(include=['int64','float64'])\n",
    "data1"
   ]
  },
  {
   "cell_type": "markdown",
   "id": "ef8ac52a",
   "metadata": {},
   "source": [
    "# data cleaning"
   ]
  },
  {
   "cell_type": "code",
   "execution_count": 9,
   "id": "998ed675",
   "metadata": {},
   "outputs": [],
   "source": [
    "Data_F=data1.drop(columns=['step'])"
   ]
  },
  {
   "cell_type": "code",
   "execution_count": 10,
   "id": "ee369f46",
   "metadata": {},
   "outputs": [
    {
     "data": {
      "text/html": [
       "<div>\n",
       "<style scoped>\n",
       "    .dataframe tbody tr th:only-of-type {\n",
       "        vertical-align: middle;\n",
       "    }\n",
       "\n",
       "    .dataframe tbody tr th {\n",
       "        vertical-align: top;\n",
       "    }\n",
       "\n",
       "    .dataframe thead th {\n",
       "        text-align: right;\n",
       "    }\n",
       "</style>\n",
       "<table border=\"1\" class=\"dataframe\">\n",
       "  <thead>\n",
       "    <tr style=\"text-align: right;\">\n",
       "      <th></th>\n",
       "      <th>amount</th>\n",
       "      <th>oldbalanceOrg</th>\n",
       "      <th>newbalanceOrig</th>\n",
       "      <th>oldbalanceDest</th>\n",
       "      <th>newbalanceDest</th>\n",
       "      <th>isFraud</th>\n",
       "      <th>isFlaggedFraud</th>\n",
       "    </tr>\n",
       "  </thead>\n",
       "  <tbody>\n",
       "    <tr>\n",
       "      <th>2123347</th>\n",
       "      <td>355909.21</td>\n",
       "      <td>355909.21</td>\n",
       "      <td>0.00</td>\n",
       "      <td>0.00</td>\n",
       "      <td>0.00</td>\n",
       "      <td>1</td>\n",
       "      <td>0</td>\n",
       "    </tr>\n",
       "    <tr>\n",
       "      <th>6281779</th>\n",
       "      <td>692654.27</td>\n",
       "      <td>692654.27</td>\n",
       "      <td>0.00</td>\n",
       "      <td>0.00</td>\n",
       "      <td>0.00</td>\n",
       "      <td>1</td>\n",
       "      <td>0</td>\n",
       "    </tr>\n",
       "    <tr>\n",
       "      <th>6196334</th>\n",
       "      <td>457789.14</td>\n",
       "      <td>457789.14</td>\n",
       "      <td>0.00</td>\n",
       "      <td>0.00</td>\n",
       "      <td>0.00</td>\n",
       "      <td>1</td>\n",
       "      <td>0</td>\n",
       "    </tr>\n",
       "    <tr>\n",
       "      <th>5012385</th>\n",
       "      <td>839008.91</td>\n",
       "      <td>839008.91</td>\n",
       "      <td>0.00</td>\n",
       "      <td>364600.35</td>\n",
       "      <td>1203609.26</td>\n",
       "      <td>1</td>\n",
       "      <td>0</td>\n",
       "    </tr>\n",
       "    <tr>\n",
       "      <th>6351059</th>\n",
       "      <td>803038.11</td>\n",
       "      <td>803038.11</td>\n",
       "      <td>0.00</td>\n",
       "      <td>0.00</td>\n",
       "      <td>0.00</td>\n",
       "      <td>1</td>\n",
       "      <td>0</td>\n",
       "    </tr>\n",
       "    <tr>\n",
       "      <th>...</th>\n",
       "      <td>...</td>\n",
       "      <td>...</td>\n",
       "      <td>...</td>\n",
       "      <td>...</td>\n",
       "      <td>...</td>\n",
       "      <td>...</td>\n",
       "      <td>...</td>\n",
       "    </tr>\n",
       "    <tr>\n",
       "      <th>4539362</th>\n",
       "      <td>1151053.30</td>\n",
       "      <td>0.00</td>\n",
       "      <td>0.00</td>\n",
       "      <td>3236040.12</td>\n",
       "      <td>4387093.42</td>\n",
       "      <td>0</td>\n",
       "      <td>0</td>\n",
       "    </tr>\n",
       "    <tr>\n",
       "      <th>3629691</th>\n",
       "      <td>471661.04</td>\n",
       "      <td>0.00</td>\n",
       "      <td>0.00</td>\n",
       "      <td>729694.08</td>\n",
       "      <td>1201355.12</td>\n",
       "      <td>0</td>\n",
       "      <td>0</td>\n",
       "    </tr>\n",
       "    <tr>\n",
       "      <th>5173239</th>\n",
       "      <td>12615.17</td>\n",
       "      <td>862.00</td>\n",
       "      <td>0.00</td>\n",
       "      <td>0.00</td>\n",
       "      <td>0.00</td>\n",
       "      <td>0</td>\n",
       "      <td>0</td>\n",
       "    </tr>\n",
       "    <tr>\n",
       "      <th>1162365</th>\n",
       "      <td>8686.06</td>\n",
       "      <td>14905.00</td>\n",
       "      <td>6218.94</td>\n",
       "      <td>0.00</td>\n",
       "      <td>0.00</td>\n",
       "      <td>0</td>\n",
       "      <td>0</td>\n",
       "    </tr>\n",
       "    <tr>\n",
       "      <th>1892118</th>\n",
       "      <td>9473.36</td>\n",
       "      <td>334120.00</td>\n",
       "      <td>324646.64</td>\n",
       "      <td>0.00</td>\n",
       "      <td>0.00</td>\n",
       "      <td>0</td>\n",
       "      <td>0</td>\n",
       "    </tr>\n",
       "  </tbody>\n",
       "</table>\n",
       "<p>10000 rows × 7 columns</p>\n",
       "</div>"
      ],
      "text/plain": [
       "             amount  oldbalanceOrg  newbalanceOrig  oldbalanceDest  \\\n",
       "2123347   355909.21      355909.21            0.00            0.00   \n",
       "6281779   692654.27      692654.27            0.00            0.00   \n",
       "6196334   457789.14      457789.14            0.00            0.00   \n",
       "5012385   839008.91      839008.91            0.00       364600.35   \n",
       "6351059   803038.11      803038.11            0.00            0.00   \n",
       "...             ...            ...             ...             ...   \n",
       "4539362  1151053.30           0.00            0.00      3236040.12   \n",
       "3629691   471661.04           0.00            0.00       729694.08   \n",
       "5173239    12615.17         862.00            0.00            0.00   \n",
       "1162365     8686.06       14905.00         6218.94            0.00   \n",
       "1892118     9473.36      334120.00       324646.64            0.00   \n",
       "\n",
       "         newbalanceDest  isFraud  isFlaggedFraud  \n",
       "2123347            0.00        1               0  \n",
       "6281779            0.00        1               0  \n",
       "6196334            0.00        1               0  \n",
       "5012385      1203609.26        1               0  \n",
       "6351059            0.00        1               0  \n",
       "...                 ...      ...             ...  \n",
       "4539362      4387093.42        0               0  \n",
       "3629691      1201355.12        0               0  \n",
       "5173239            0.00        0               0  \n",
       "1162365            0.00        0               0  \n",
       "1892118            0.00        0               0  \n",
       "\n",
       "[10000 rows x 7 columns]"
      ]
     },
     "execution_count": 10,
     "metadata": {},
     "output_type": "execute_result"
    }
   ],
   "source": [
    "Data_F"
   ]
  },
  {
   "cell_type": "code",
   "execution_count": 11,
   "id": "468f6569",
   "metadata": {},
   "outputs": [
    {
     "data": {
      "text/plain": [
       "amount            0\n",
       "oldbalanceOrg     0\n",
       "newbalanceOrig    0\n",
       "oldbalanceDest    0\n",
       "newbalanceDest    0\n",
       "isFraud           0\n",
       "isFlaggedFraud    0\n",
       "dtype: int64"
      ]
     },
     "execution_count": 11,
     "metadata": {},
     "output_type": "execute_result"
    }
   ],
   "source": [
    "Data_F.isna().sum()"
   ]
  },
  {
   "cell_type": "code",
   "execution_count": 12,
   "id": "4fcea692",
   "metadata": {},
   "outputs": [
    {
     "data": {
      "text/plain": [
       "37"
      ]
     },
     "execution_count": 12,
     "metadata": {},
     "output_type": "execute_result"
    }
   ],
   "source": [
    "Data_F.duplicated().sum()"
   ]
  },
  {
   "cell_type": "code",
   "execution_count": 13,
   "id": "a8109c87",
   "metadata": {},
   "outputs": [
    {
     "name": "stdout",
     "output_type": "stream",
     "text": [
      "number of rows  before discarding duplicates = 10000\n",
      "number of rows after discarding duplicates = 9963\n"
     ]
    }
   ],
   "source": [
    "print('number of rows  before discarding duplicates = %d' % (Data_F.shape[0]))\n",
    "datadub= Data_F.drop_duplicates()\n",
    "print(\"number of rows after discarding duplicates = %d\" % (datadub.shape[0]))"
   ]
  },
  {
   "cell_type": "code",
   "execution_count": 14,
   "id": "e25968bd",
   "metadata": {},
   "outputs": [
    {
     "data": {
      "text/plain": [
       "False"
      ]
     },
     "execution_count": 14,
     "metadata": {},
     "output_type": "execute_result"
    }
   ],
   "source": [
    "datadub.isnull().values.any()"
   ]
  },
  {
   "cell_type": "code",
   "execution_count": 15,
   "id": "5ae5060c",
   "metadata": {},
   "outputs": [
    {
     "data": {
      "text/html": [
       "<div>\n",
       "<style scoped>\n",
       "    .dataframe tbody tr th:only-of-type {\n",
       "        vertical-align: middle;\n",
       "    }\n",
       "\n",
       "    .dataframe tbody tr th {\n",
       "        vertical-align: top;\n",
       "    }\n",
       "\n",
       "    .dataframe thead th {\n",
       "        text-align: right;\n",
       "    }\n",
       "</style>\n",
       "<table border=\"1\" class=\"dataframe\">\n",
       "  <thead>\n",
       "    <tr style=\"text-align: right;\">\n",
       "      <th></th>\n",
       "      <th>amount</th>\n",
       "      <th>oldbalanceOrg</th>\n",
       "      <th>newbalanceOrig</th>\n",
       "      <th>oldbalanceDest</th>\n",
       "      <th>newbalanceDest</th>\n",
       "      <th>isFraud</th>\n",
       "      <th>isFlaggedFraud</th>\n",
       "    </tr>\n",
       "  </thead>\n",
       "  <tbody>\n",
       "    <tr>\n",
       "      <th>2123347</th>\n",
       "      <td>355909.21</td>\n",
       "      <td>355909.21</td>\n",
       "      <td>0.00</td>\n",
       "      <td>0.00</td>\n",
       "      <td>0.00</td>\n",
       "      <td>1</td>\n",
       "      <td>0</td>\n",
       "    </tr>\n",
       "    <tr>\n",
       "      <th>6281779</th>\n",
       "      <td>692654.27</td>\n",
       "      <td>692654.27</td>\n",
       "      <td>0.00</td>\n",
       "      <td>0.00</td>\n",
       "      <td>0.00</td>\n",
       "      <td>1</td>\n",
       "      <td>0</td>\n",
       "    </tr>\n",
       "    <tr>\n",
       "      <th>6196334</th>\n",
       "      <td>457789.14</td>\n",
       "      <td>457789.14</td>\n",
       "      <td>0.00</td>\n",
       "      <td>0.00</td>\n",
       "      <td>0.00</td>\n",
       "      <td>1</td>\n",
       "      <td>0</td>\n",
       "    </tr>\n",
       "    <tr>\n",
       "      <th>5012385</th>\n",
       "      <td>839008.91</td>\n",
       "      <td>839008.91</td>\n",
       "      <td>0.00</td>\n",
       "      <td>364600.35</td>\n",
       "      <td>1203609.26</td>\n",
       "      <td>1</td>\n",
       "      <td>0</td>\n",
       "    </tr>\n",
       "    <tr>\n",
       "      <th>6351059</th>\n",
       "      <td>803038.11</td>\n",
       "      <td>803038.11</td>\n",
       "      <td>0.00</td>\n",
       "      <td>0.00</td>\n",
       "      <td>0.00</td>\n",
       "      <td>1</td>\n",
       "      <td>0</td>\n",
       "    </tr>\n",
       "    <tr>\n",
       "      <th>...</th>\n",
       "      <td>...</td>\n",
       "      <td>...</td>\n",
       "      <td>...</td>\n",
       "      <td>...</td>\n",
       "      <td>...</td>\n",
       "      <td>...</td>\n",
       "      <td>...</td>\n",
       "    </tr>\n",
       "    <tr>\n",
       "      <th>4539362</th>\n",
       "      <td>1151053.30</td>\n",
       "      <td>0.00</td>\n",
       "      <td>0.00</td>\n",
       "      <td>3236040.12</td>\n",
       "      <td>4387093.42</td>\n",
       "      <td>0</td>\n",
       "      <td>0</td>\n",
       "    </tr>\n",
       "    <tr>\n",
       "      <th>3629691</th>\n",
       "      <td>471661.04</td>\n",
       "      <td>0.00</td>\n",
       "      <td>0.00</td>\n",
       "      <td>729694.08</td>\n",
       "      <td>1201355.12</td>\n",
       "      <td>0</td>\n",
       "      <td>0</td>\n",
       "    </tr>\n",
       "    <tr>\n",
       "      <th>5173239</th>\n",
       "      <td>12615.17</td>\n",
       "      <td>862.00</td>\n",
       "      <td>0.00</td>\n",
       "      <td>0.00</td>\n",
       "      <td>0.00</td>\n",
       "      <td>0</td>\n",
       "      <td>0</td>\n",
       "    </tr>\n",
       "    <tr>\n",
       "      <th>1162365</th>\n",
       "      <td>8686.06</td>\n",
       "      <td>14905.00</td>\n",
       "      <td>6218.94</td>\n",
       "      <td>0.00</td>\n",
       "      <td>0.00</td>\n",
       "      <td>0</td>\n",
       "      <td>0</td>\n",
       "    </tr>\n",
       "    <tr>\n",
       "      <th>1892118</th>\n",
       "      <td>9473.36</td>\n",
       "      <td>334120.00</td>\n",
       "      <td>324646.64</td>\n",
       "      <td>0.00</td>\n",
       "      <td>0.00</td>\n",
       "      <td>0</td>\n",
       "      <td>0</td>\n",
       "    </tr>\n",
       "  </tbody>\n",
       "</table>\n",
       "<p>9963 rows × 7 columns</p>\n",
       "</div>"
      ],
      "text/plain": [
       "             amount  oldbalanceOrg  newbalanceOrig  oldbalanceDest  \\\n",
       "2123347   355909.21      355909.21            0.00            0.00   \n",
       "6281779   692654.27      692654.27            0.00            0.00   \n",
       "6196334   457789.14      457789.14            0.00            0.00   \n",
       "5012385   839008.91      839008.91            0.00       364600.35   \n",
       "6351059   803038.11      803038.11            0.00            0.00   \n",
       "...             ...            ...             ...             ...   \n",
       "4539362  1151053.30           0.00            0.00      3236040.12   \n",
       "3629691   471661.04           0.00            0.00       729694.08   \n",
       "5173239    12615.17         862.00            0.00            0.00   \n",
       "1162365     8686.06       14905.00         6218.94            0.00   \n",
       "1892118     9473.36      334120.00       324646.64            0.00   \n",
       "\n",
       "         newbalanceDest  isFraud  isFlaggedFraud  \n",
       "2123347            0.00        1               0  \n",
       "6281779            0.00        1               0  \n",
       "6196334            0.00        1               0  \n",
       "5012385      1203609.26        1               0  \n",
       "6351059            0.00        1               0  \n",
       "...                 ...      ...             ...  \n",
       "4539362      4387093.42        0               0  \n",
       "3629691      1201355.12        0               0  \n",
       "5173239            0.00        0               0  \n",
       "1162365            0.00        0               0  \n",
       "1892118            0.00        0               0  \n",
       "\n",
       "[9963 rows x 7 columns]"
      ]
     },
     "execution_count": 15,
     "metadata": {},
     "output_type": "execute_result"
    }
   ],
   "source": [
    "datadub"
   ]
  },
  {
   "cell_type": "markdown",
   "id": "63852afc",
   "metadata": {},
   "source": [
    "# EDA"
   ]
  },
  {
   "cell_type": "code",
   "execution_count": 16,
   "id": "218b447d",
   "metadata": {},
   "outputs": [
    {
     "data": {
      "text/plain": [
       "0    5000\n",
       "1    4963\n",
       "Name: isFraud, dtype: int64"
      ]
     },
     "execution_count": 16,
     "metadata": {},
     "output_type": "execute_result"
    }
   ],
   "source": [
    "datadub['isFraud'].value_counts()"
   ]
  },
  {
   "cell_type": "code",
   "execution_count": 17,
   "id": "1b8b56ee",
   "metadata": {},
   "outputs": [
    {
     "data": {
      "text/plain": [
       "0    9954\n",
       "1       9\n",
       "Name: isFlaggedFraud, dtype: int64"
      ]
     },
     "execution_count": 17,
     "metadata": {},
     "output_type": "execute_result"
    }
   ],
   "source": [
    "datadub['isFlaggedFraud'].value_counts()"
   ]
  },
  {
   "cell_type": "code",
   "execution_count": 18,
   "id": "e1be4727",
   "metadata": {},
   "outputs": [
    {
     "name": "stderr",
     "output_type": "stream",
     "text": [
      "C:\\Users\\LENOVO\\anaconda3\\lib\\site-packages\\seaborn\\categorical.py:3714: UserWarning: The `factorplot` function has been renamed to `catplot`. The original name will be removed in a future release. Please update your code. Note that the default `kind` in `factorplot` (`'point'`) has changed `'strip'` in `catplot`.\n",
      "  warnings.warn(msg)\n"
     ]
    },
    {
     "data": {
      "text/plain": [
       "<seaborn.axisgrid.FacetGrid at 0x19576be61c0>"
      ]
     },
     "execution_count": 18,
     "metadata": {},
     "output_type": "execute_result"
    },
    {
     "data": {
      "image/png": "[encoded data removed]",
      "text/plain": [
       "<Figure size 360x360 with 1 Axes>"
      ]
     },
     "metadata": {
      "needs_background": "light"
     },
     "output_type": "display_data"
    }
   ],
   "source": [
    "sns.factorplot(x ='isFraud', y ='amount',\n",
    "               kind = 'violin', data = datadub)"
   ]
  },
  {
   "cell_type": "markdown",
   "id": "7b5c93c8",
   "metadata": {},
   "source": [
    "# Modeling"
   ]
  },
  {
   "cell_type": "code",
   "execution_count": 19,
   "id": "74dfe3df",
   "metadata": {},
   "outputs": [],
   "source": [
    "from sklearn.model_selection import train_test_split, learning_curve\n",
    "from sklearn.metrics import average_precision_score\n",
    "from sklearn.linear_model import LogisticRegression\n",
    "from sklearn import metrics \n",
    "from sklearn.model_selection import GridSearchCV, RandomizedSearchCV, cross_val_score, train_test_split\n",
    "from sklearn.metrics import accuracy_score, f1_score\n",
    "from sklearn.svm import SVC\n",
    "from sklearn.linear_model import LogisticRegression\n",
    "from sklearn.ensemble import RandomForestClassifier, GradientBoostingClassifier\n",
    "from sklearn.metrics import confusion_matrix,accuracy_score, precision_score, recall_score,\\\n",
    "            f1_score, classification_report, roc_auc_score, roc_curve\n",
    "from xgboost import XGBClassifier\n",
    "from sklearn.linear_model import LogisticRegression\n",
    "from sklearn.metrics import accuracy_score\n",
    "from sklearn.preprocessing import StandardScaler\n",
    "from imblearn.over_sampling import SMOTE\n"
   ]
  },
  {
   "cell_type": "code",
   "execution_count": 20,
   "id": "57a02b81",
   "metadata": {},
   "outputs": [],
   "source": [
    "x=datadub.drop(columns=['isFraud'])\n",
    "y = datadub.isFraud"
   ]
  },
  {
   "cell_type": "code",
   "execution_count": 29,
   "id": "5553b1dc",
   "metadata": {},
   "outputs": [],
   "source": [
    "scaler = StandardScaler()\n",
    "x = scaler.fit_transform(x)"
   ]
  },
  {
   "cell_type": "code",
   "execution_count": 30,
   "id": "0cd20fa9",
   "metadata": {},
   "outputs": [
    {
     "data": {
      "text/plain": [
       "((6974, 6), (2989, 6), (6974,), (2989,))"
      ]
     },
     "execution_count": 30,
     "metadata": {},
     "output_type": "execute_result"
    }
   ],
   "source": [
    "x_train, x_test, y_train, y_test = train_test_split(x, y, test_size=0.3, random_state=2)\n",
    "x_train.shape, x_test.shape, y_train.shape, y_test.shape"
   ]
  },
  {
   "cell_type": "code",
   "execution_count": 31,
   "id": "af6d8a6c",
   "metadata": {},
   "outputs": [],
   "source": [
    "clf = LogisticRegression(solver = 'lbfgs')"
   ]
  },
  {
   "cell_type": "code",
   "execution_count": 32,
   "id": "99dc43d0",
   "metadata": {},
   "outputs": [],
   "source": [
    "sm = SMOTE(random_state = 123)"
   ]
  },
  {
   "cell_type": "code",
   "execution_count": 33,
   "id": "ffac7ebe",
   "metadata": {},
   "outputs": [],
   "source": [
    "X_train_new, y_train_new = sm.fit_resample(x_train, y_train.ravel())"
   ]
  },
  {
   "cell_type": "code",
   "execution_count": 34,
   "id": "568dcba3",
   "metadata": {},
   "outputs": [
    {
     "data": {
      "text/plain": [
       "(7022, 7022)"
      ]
     },
     "execution_count": 34,
     "metadata": {},
     "output_type": "execute_result"
    }
   ],
   "source": [
    "len(X_train_new), len(y_train_new)"
   ]
  },
  {
   "cell_type": "code",
   "execution_count": 35,
   "id": "7f195566",
   "metadata": {},
   "outputs": [
    {
     "data": {
      "image/png": "[encoded data removed]",
      "text/plain": [
       "<Figure size 360x360 with 1 Axes>"
      ]
     },
     "metadata": {
      "needs_background": "light"
     },
     "output_type": "display_data"
    }
   ],
   "source": [
    "pd.Series(y_train_new).value_counts().plot.bar();"
   ]
  },
  {
   "cell_type": "code",
   "execution_count": 45,
   "id": "afd2a311",
   "metadata": {},
   "outputs": [],
   "source": [
    "Log_Reg = LogisticRegression()"
   ]
  },
  {
   "cell_type": "markdown",
   "id": "727b5ee8",
   "metadata": {},
   "source": [
    "# Logistic Regression"
   ]
  },
  {
   "cell_type": "code",
   "execution_count": 46,
   "id": "55964358",
   "metadata": {},
   "outputs": [],
   "source": [
    "clf = LogisticRegression(solver = 'lbfgs')\n",
    "clf.fit(X_train_new, y_train_new)\n",
    "test_pred_sm = clf.predict(x_test)"
   ]
  },
  {
   "cell_type": "code",
   "execution_count": 47,
   "id": "cee50177",
   "metadata": {},
   "outputs": [
    {
     "name": "stdout",
     "output_type": "stream",
     "text": [
      "Accuracy of Logistic Regression is  86.45031783205084\n",
      "F1 score of Logistic Regression is  84.60661345496008\n"
     ]
    }
   ],
   "source": [
    "from sklearn.metrics import confusion_matrix,accuracy_score, precision_score, recall_score,\\\n",
    "            f1_score, classification_report, roc_auc_score, roc_curve\n",
    "lr_test_accuracy = accuracy_score(test_pred_sm, y_test)\n",
    "lr_test_f1_score = f1_score(y_test,test_pred_sm)\n",
    "print('Accuracy of Logistic Regression is ', lr_test_accuracy * 100)\n",
    "print('F1 score of Logistic Regression is ', lr_test_f1_score * 100)"
   ]
  },
  {
   "cell_type": "markdown",
   "id": "d988721a",
   "metadata": {},
   "source": [
    "# Random Forest"
   ]
  },
  {
   "cell_type": "code",
   "execution_count": 48,
   "id": "5e8b902e",
   "metadata": {},
   "outputs": [
    {
     "name": "stdout",
     "output_type": "stream",
     "text": [
      "Accuracy of Random Forest is  98.89595182335229\n",
      "F1 score of Random Forest is  98.90401859847228\n"
     ]
    }
   ],
   "source": [
    "from sklearn.metrics import confusion_matrix,accuracy_score, precision_score, recall_score,\\\n",
    "            f1_score, classification_report, roc_auc_score, roc_curve\n",
    "RandomForest_model = RandomForestClassifier(random_state=2)\n",
    "\n",
    "RandomForest_model.fit(X_train_new, y_train_new)\n",
    "RandomForest_test_prediction = RandomForest_model.predict(x_test)\n",
    "RandomForest_test_accuracy = accuracy_score(y_test, RandomForest_test_prediction)\n",
    "RandomForest_test_f1_score = f1_score(y_test, RandomForest_test_prediction)\n",
    "\n",
    "print('Accuracy of Random Forest is ', RandomForest_test_accuracy * 100)\n",
    "print('F1 score of Random Forest is ', RandomForest_test_f1_score * 100)"
   ]
  },
  {
   "cell_type": "markdown",
   "id": "a0d7ce07",
   "metadata": {},
   "source": [
    "# DecisionTree"
   ]
  },
  {
   "cell_type": "code",
   "execution_count": 49,
   "id": "1f9d58e8",
   "metadata": {},
   "outputs": [
    {
     "data": {
      "text/plain": [
       "DecisionTreeClassifier()"
      ]
     },
     "execution_count": 49,
     "metadata": {},
     "output_type": "execute_result"
    }
   ],
   "source": [
    "from sklearn.tree import DecisionTreeClassifier\n",
    "dtree = DecisionTreeClassifier()\n",
    "dtree.fit(X_train_new, y_train_new)"
   ]
  },
  {
   "cell_type": "code",
   "execution_count": 50,
   "id": "5219fd75",
   "metadata": {},
   "outputs": [
    {
     "name": "stdout",
     "output_type": "stream",
     "text": [
      "Accuracy Of Decision Tree= 99.19705587152893\n",
      "F1 score Of Decision Tree 99.20265780730897\n"
     ]
    }
   ],
   "source": [
    "from sklearn.metrics import confusion_matrix,accuracy_score, precision_score, recall_score,\\\n",
    "            f1_score, classification_report, roc_auc_score, roc_curve\n",
    "y_pred = dtree.predict(x_test)\n",
    "accuracy = accuracy_score(y_test, y_pred)\n",
    "print ('Accuracy Of Decision Tree=' ,accuracy * 100)\n",
    "f1_score = f1_score(y_test, y_pred)\n",
    "print ('F1 score Of Decision Tree',f1_score * 100)"
   ]
  },
  {
   "cell_type": "code",
   "execution_count": 51,
   "id": "7b4f4398",
   "metadata": {},
   "outputs": [
    {
     "data": {
      "image/png": "[encoded data removed]",
      "text/plain": [
       "<Figure size 360x360 with 1 Axes>"
      ]
     },
     "metadata": {
      "needs_background": "light"
     },
     "output_type": "display_data"
    }
   ],
   "source": [
    "ypred_prob = dtree.predict_proba(x_test)\n",
    "class1_probs = ypred_prob[:, 1]\n",
    "plt.plot([0, 1], [0, 1], linestyle='--', label='Baseline')\n",
    "fpr, tpr, _ = roc_curve(y_test, class1_probs)\n",
    "plt.plot(fpr, tpr, marker='.', label='Decision_T ree')\n",
    "plt.xlabel('False Positive Rate')\n",
    "plt.ylabel('True Positive Rate')\n",
    "plt.legend()\n",
    "plt.show()"
   ]
  },
  {
   "cell_type": "markdown",
   "id": "9efb1d03",
   "metadata": {},
   "source": [
    "# Gradient Boosting"
   ]
  },
  {
   "cell_type": "code",
   "execution_count": 52,
   "id": "455eb7cf",
   "metadata": {},
   "outputs": [
    {
     "name": "stdout",
     "output_type": "stream",
     "text": [
      "Accuracy of Gradient Boosting is 98.36065573770492\n",
      "F1 score of Gradient Boosting is 98.37802052300563\n"
     ]
    }
   ],
   "source": [
    "from sklearn.metrics import confusion_matrix,accuracy_score, precision_score, recall_score,\\\n",
    "            f1_score, classification_report, roc_auc_score, roc_curve\n",
    "gb_model = GradientBoostingClassifier(random_state=2)\n",
    "gb_model.fit(X_train_new, y_train_new)\n",
    "gb_test_prediction = gb_model.predict(x_test)\n",
    "gb_test_accuracy = accuracy_score(y_test, gb_test_prediction)\n",
    "gb_test_f1_score = f1_score(y_test, gb_test_prediction)\n",
    "\n",
    "print('Accuracy of Gradient Boosting is', gb_test_accuracy * 100)\n",
    "print( 'F1 score of Gradient Boosting is',gb_test_f1_score * 100)"
   ]
  },
  {
   "cell_type": "markdown",
   "id": "1a51f880",
   "metadata": {},
   "source": [
    "# XGBoost"
   ]
  },
  {
   "cell_type": "code",
   "execution_count": 53,
   "id": "d651f260",
   "metadata": {},
   "outputs": [
    {
     "name": "stderr",
     "output_type": "stream",
     "text": [
      "C:\\Users\\LENOVO\\anaconda3\\lib\\site-packages\\xgboost\\sklearn.py:1224: UserWarning: The use of label encoder in XGBClassifier is deprecated and will be removed in a future release. To remove this warning, do the following: 1) Pass option use_label_encoder=False when constructing XGBClassifier object; and 2) Encode your labels (y) as integers starting with 0, i.e. 0, 1, 2, ..., [num_class - 1].\n",
      "  warnings.warn(label_encoder_deprecation_msg, UserWarning)\n"
     ]
    },
    {
     "name": "stdout",
     "output_type": "stream",
     "text": [
      "Accuracy of XGBoost is  99.16359986617597\n",
      "F1 score of XGBoost is  99.16971105944869\n"
     ]
    }
   ],
   "source": [
    "xgb_model = XGBClassifier(random_state=2, max_depth=4, eval_metric='logloss')\n",
    "\n",
    "xgb_model.fit(X_train_new, y_train_new)\n",
    "xgb_test_prediction = xgb_model.predict(x_test)\n",
    "xgb_test_accuracy = accuracy_score(y_test, xgb_test_prediction)\n",
    "xgb_test_f1_score = f1_score(y_test, xgb_test_prediction)\n",
    "print('Accuracy of XGBoost is ', xgb_test_accuracy * 100)\n",
    "print('F1 score of XGBoost is ', xgb_test_f1_score * 100)"
   ]
  },
  {
   "cell_type": "markdown",
   "id": "d6d9452f",
   "metadata": {},
   "source": [
    "# ROC/AUC"
   ]
  },
  {
   "cell_type": "code",
   "execution_count": 56,
   "id": "ea1a57f6",
   "metadata": {},
   "outputs": [],
   "source": [
    "from sklearn.metrics import roc_auc_score\n",
    "from sklearn.metrics import roc_curve\n",
    "p1 = RandomForest_model.predict_proba(x_test)\n",
    "p2 = clf.predict_proba(x_test)\n",
    "p3 = dtree.predict_proba(x_test)\n",
    "p4 = gb_model.predict_proba(x_test)\n",
    "p5 = xgb_model.predict_proba(x_test)\n"
   ]
  },
  {
   "cell_type": "code",
   "execution_count": 57,
   "id": "b721a371",
   "metadata": {},
   "outputs": [
    {
     "name": "stdout",
     "output_type": "stream",
     "text": [
      "0.9986897246474143 0.9774251175285427\n"
     ]
    }
   ],
   "source": [
    "auc_score1 = roc_auc_score(y_test, p1[:,1])\n",
    "auc_score2 = roc_auc_score(y_test, p2[:,1])\n",
    "auc_score3 = roc_auc_score(y_test, p3[:,1])\n",
    "auc_score4 = roc_auc_score(y_test, p4[:,1])\n",
    "auc_score5 = roc_auc_score(y_test, p5[:,1])\n",
    "\n",
    "\n",
    "print(auc_score1,auc_score2)"
   ]
  },
  {
   "cell_type": "code",
   "execution_count": 58,
   "id": "69e696ab",
   "metadata": {},
   "outputs": [],
   "source": [
    "fpr1, tpr1, thresh1 = roc_curve(y_test, p1[:,1], pos_label=1)\n",
    "fpr2, tpr2, thresh2 = roc_curve(y_test, p2[:,1], pos_label=1)\n",
    "fpr3, tpr3, thresh3 = roc_curve(y_test, p3[:,1], pos_label=1)\n",
    "fpr4, tpr4, thresh4 = roc_curve(y_test, p4[:,1], pos_label=1)\n",
    "fpr5, tpr5, thresh5 = roc_curve(y_test, p5[:,1], pos_label=1)\n",
    "\n",
    "random_probs = [0 for i in range(len(y_test))]\n",
    "p_fpr, p_tpr, _ = roc_curve(y_test, random_probs, pos_label=1)"
   ]
  },
  {
   "cell_type": "code",
   "execution_count": 59,
   "id": "9f3c1abb",
   "metadata": {},
   "outputs": [
    {
     "data": {
      "text/plain": [
       "<matplotlib.legend.Legend at 0x195560dafd0>"
      ]
     },
     "execution_count": 59,
     "metadata": {},
     "output_type": "execute_result"
    },
    {
     "data": {
      "image/png": "[encoded data removed]",
      "text/plain": [
       "<Figure size 360x360 with 1 Axes>"
      ]
     },
     "metadata": {
      "needs_background": "light"
     },
     "output_type": "display_data"
    }
   ],
   "source": [
    "plt.plot(fpr1, tpr1, linestyle='--', label=('Random Forest',auc_score1))\n",
    "plt.plot(fpr2, tpr2, linestyle='--', label=('Logistic Regression',auc_score2))\n",
    "plt.plot(fpr3, tpr3, linestyle='--', label=('Decision Tree',auc_score3))\n",
    "plt.plot(fpr4, tpr4, linestyle='--', label=('Gradient Boosting',auc_score4))\n",
    "plt.plot(fpr5, tpr5, linestyle='--', label=('XGBoost',auc_score5))\n",
    "\n",
    "plt.plot(p_fpr, p_tpr, linestyle='--')\n",
    "plt.title('')\n",
    "plt.xlabel('False Positive Rate')\n",
    "plt.ylabel('True Positive rate')\n",
    "plt.legend(loc='best')"
   ]
  },
  {
   "cell_type": "code",
   "execution_count": null,
   "id": "bf73d120",
   "metadata": {},
   "outputs": [],
   "source": []
  }
 ],
 "metadata": {
  "kernelspec": {
   "display_name": "Python 3",
   "language": "python",
   "name": "python3"
  },
  "language_info": {
   "codemirror_mode": {
    "name": "ipython",
    "version": 3
   },
   "file_extension": ".py",
   "mimetype": "text/x-python",
   "name": "python",
   "nbconvert_exporter": "python",
   "pygments_lexer": "ipython3",
   "version": "3.8.8"
  }
 },
 "nbformat": 4,
 "nbformat_minor": 5
}
